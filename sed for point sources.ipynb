{
 "cells": [
  {
   "cell_type": "code",
   "execution_count": 1,
   "metadata": {},
   "outputs": [],
   "source": [
    "import numpy as np\n",
    "from astropy.io import fits\n",
    "from astropy.io import ascii\n",
    "from astropy.table import Column, Table\n",
    "from astropy import units as u\n",
    "from astropy import constants as const\n",
    "from astropy import wcs\n",
    "import matplotlib.pyplot as plt\n",
    "import matplotlib as mpl\n",
    "from scipy.optimize import curve_fit\n",
    "from scipy.integrate import quad"
   ]
  },
  {
   "cell_type": "code",
   "execution_count": 11,
   "metadata": {},
   "outputs": [],
   "source": [
    "%matplotlib inline"
   ]
  },
  {
   "cell_type": "code",
   "execution_count": 2,
   "metadata": {},
   "outputs": [],
   "source": [
    "#define constants\n",
    "h=6.62607e-34 #Planck constant\n",
    "k=1.38065e-23 #Boltzmann constant\n",
    "m_H=1.6726e-24 #Proton mass, in g\n",
    "m_sun=const.M_sun\n",
    "d=7.07 * u.kpc #distance, 7.07 kpc (Roman-Duval 2009)\n",
    "k_600=0.0333#k_v in 600 GHz, consider GDR as 100, in cm^2/g (from column 5 of table 1 in Ossenkopf & Henning 1994, often referred to as OH5)\n",
    "lamda_0=500 #wavelength of v_0, in micron\n",
    "nu_0=600 * 10**9\n",
    "mu=2.8 #atomic mass unit of H2\n",
    "beta=2 #consider beta as 2\n",
    "c=2.998e8 #light speed\n",
    "\n",
    "\n",
    "#define SED function, input are lamda(in micronmeter), T and N(in g/cm^2), output is intensity(in MJy/sr)\n",
    "def SED(lamda,T,N):\n",
    "\tnu=c/(lamda*1e-6)\n",
    "\tk_nu=k_600*(lamda_0/lamda)**beta\n",
    "\treturn 2*1e20*h*nu**3/c**2*(1-np.exp(-k_nu*N))/(np.exp(h*nu/k/T)-1)\n",
    "#input: nu(in Hz), T(in K), N(in g/cm^2)\n",
    "#output:intensity(in cgs: g/s^2)\n",
    "def SED2(nu,T,N):\n",
    "\tk_nu=k_600*(nu/nu_0)**beta\n",
    "\treturn 2*1e20*h*nu**3/c**2*(1-np.exp(-k_nu*N))/(np.exp(h*nu/k/T)-1)"
   ]
  },
  {
   "cell_type": "code",
   "execution_count": 3,
   "metadata": {},
   "outputs": [
    {
     "data": {
      "text/html": [
       "&lt;Table length=104&gt;\n",
       "<table id=\"table4444028816\" class=\"table-striped table-bordered table-condensed\">\n",
       "<thead><tr><th>col1</th><th>col2</th><th>col3</th><th>col4</th><th>col5</th><th>col6</th><th>col7</th><th>col8</th><th>col9</th><th>col10</th></tr></thead>\n",
       "<thead><tr><th>int64</th><th>float64</th><th>float64</th><th>float64</th><th>float64</th><th>float64</th><th>float64</th><th>float64</th><th>float64</th><th>float64</th></tr></thead>\n",
       "<tr><td>0</td><td>0.0</td><td>5008.0</td><td>inf</td><td>0.0</td><td>0.0</td><td>0.0</td><td>0.0</td><td>nan</td><td>nan</td></tr>\n",
       "<tr><td>1</td><td>0.0</td><td>688.0</td><td>inf</td><td>0.0</td><td>0.0</td><td>0.0</td><td>0.0</td><td>nan</td><td>nan</td></tr>\n",
       "<tr><td>2</td><td>118.427540631</td><td>256.0</td><td>0.00340927216244</td><td>6.79670086323</td><td>4.00089006945</td><td>-138.271156089</td><td>5.21467669072</td><td>114.944341465</td><td>47.3837124647</td></tr>\n",
       "<tr><td>3</td><td>0.0</td><td>4976.0</td><td>inf</td><td>0.0</td><td>0.0</td><td>0.0</td><td>0.0</td><td>nan</td><td>nan</td></tr>\n",
       "<tr><td>4</td><td>232.8266423</td><td>640.0</td><td>0.0103742648081</td><td>7.70044246262</td><td>6.94255068752</td><td>63.200316467</td><td>7.31168326126</td><td>179.05631807</td><td>53.7488529773</td></tr>\n",
       "<tr><td>5</td><td>0.0</td><td>608.0</td><td>inf</td><td>0.0</td><td>0.0</td><td>0.0</td><td>0.0</td><td>nan</td><td>nan</td></tr>\n",
       "<tr><td>6</td><td>81.9623824529</td><td>208.0</td><td>0.00258433621473</td><td>5.64250070326</td><td>3.33537766559</td><td>88.052274188</td><td>4.33818750445</td><td>105.924437502</td><td>57.8521534324</td></tr>\n",
       "<tr><td>7</td><td>102.077913629</td><td>256.0</td><td>0.00392884958456</td><td>5.17214783054</td><td>4.53171845011</td><td>122.283936143</td><td>4.84135494984</td><td>82.7447455845</td><td>62.718459884</td></tr>\n",
       "<tr><td>8</td><td>112.176800977</td><td>288.0</td><td>0.00408223459907</td><td>5.95375301155</td><td>4.32627678302</td><td>94.5407930892</td><td>5.07519294468</td><td>201.696184771</td><td>64.4500600794</td></tr>\n",
       "<tr><td>9</td><td>0.0</td><td>1296.0</td><td>inf</td><td>0.0</td><td>0.0</td><td>0.0</td><td>0.0</td><td>nan</td><td>nan</td></tr>\n",
       "<tr><td>...</td><td>...</td><td>...</td><td>...</td><td>...</td><td>...</td><td>...</td><td>...</td><td>...</td><td>...</td></tr>\n",
       "<tr><td>94</td><td>88.3920421427</td><td>288.0</td><td>0.00454722497749</td><td>4.5752612074</td><td>4.43607968196</td><td>89.6943423612</td><td>4.50513299269</td><td>161.129924536</td><td>296.174826194</td></tr>\n",
       "<tr><td>95</td><td>0.0</td><td>8832.0</td><td>inf</td><td>0.0</td><td>0.0</td><td>0.0</td><td>0.0</td><td>nan</td><td>nan</td></tr>\n",
       "<tr><td>96</td><td>97.3399877236</td><td>240.0</td><td>0.00335494399991</td><td>6.25965415335</td><td>3.57061489586</td><td>103.399234867</td><td>4.7276647896</td><td>225.642852201</td><td>304.480831263</td></tr>\n",
       "<tr><td>97</td><td>157.252812165</td><td>416.0</td><td>0.026261353961</td><td>8.72582845504</td><td>4.13803170954</td><td>122.088327453</td><td>6.00897286056</td><td>114.167772463</td><td>309.73433181</td></tr>\n",
       "<tr><td>98</td><td>0.0</td><td>2944.0</td><td>inf</td><td>0.0</td><td>0.0</td><td>0.0</td><td>0.0</td><td>nan</td><td>nan</td></tr>\n",
       "<tr><td>99</td><td>0.0</td><td>6768.0</td><td>inf</td><td>0.0</td><td>0.0</td><td>0.0</td><td>0.0</td><td>nan</td><td>nan</td></tr>\n",
       "<tr><td>100</td><td>120.103446179</td><td>256.0</td><td>0.00337944462514</td><td>6.29331490097</td><td>4.38205748127</td><td>-139.220044095</td><td>5.25144433883</td><td>186.916394857</td><td>315.726784724</td></tr>\n",
       "<tr><td>101</td><td>0.0</td><td>4352.0</td><td>inf</td><td>0.0</td><td>0.0</td><td>0.0</td><td>0.0</td><td>nan</td><td>nan</td></tr>\n",
       "<tr><td>102</td><td>0.0</td><td>1440.0</td><td>inf</td><td>0.0</td><td>0.0</td><td>0.0</td><td>0.0</td><td>nan</td><td>nan</td></tr>\n",
       "<tr><td>103</td><td>0.0</td><td>592.0</td><td>inf</td><td>0.0</td><td>0.0</td><td>0.0</td><td>0.0</td><td>nan</td><td>nan</td></tr>\n",
       "</table>"
      ],
      "text/plain": [
       "<Table length=104>\n",
       " col1      col2       col3  ...      col8          col9         col10    \n",
       "int64    float64    float64 ...    float64       float64       float64   \n",
       "----- ------------- ------- ... ------------- ------------- -------------\n",
       "    0           0.0  5008.0 ...           0.0           nan           nan\n",
       "    1           0.0   688.0 ...           0.0           nan           nan\n",
       "    2 118.427540631   256.0 ... 5.21467669072 114.944341465 47.3837124647\n",
       "    3           0.0  4976.0 ...           0.0           nan           nan\n",
       "    4   232.8266423   640.0 ... 7.31168326126  179.05631807 53.7488529773\n",
       "    5           0.0   608.0 ...           0.0           nan           nan\n",
       "    6 81.9623824529   208.0 ... 4.33818750445 105.924437502 57.8521534324\n",
       "    7 102.077913629   256.0 ... 4.84135494984 82.7447455845  62.718459884\n",
       "    8 112.176800977   288.0 ... 5.07519294468 201.696184771 64.4500600794\n",
       "    9           0.0  1296.0 ...           0.0           nan           nan\n",
       "  ...           ...     ... ...           ...           ...           ...\n",
       "   94 88.3920421427   288.0 ... 4.50513299269 161.129924536 296.174826194\n",
       "   95           0.0  8832.0 ...           0.0           nan           nan\n",
       "   96 97.3399877236   240.0 ...  4.7276647896 225.642852201 304.480831263\n",
       "   97 157.252812165   416.0 ... 6.00897286056 114.167772463  309.73433181\n",
       "   98           0.0  2944.0 ...           0.0           nan           nan\n",
       "   99           0.0  6768.0 ...           0.0           nan           nan\n",
       "  100 120.103446179   256.0 ... 5.25144433883 186.916394857 315.726784724\n",
       "  101           0.0  4352.0 ...           0.0           nan           nan\n",
       "  102           0.0  1440.0 ...           0.0           nan           nan\n",
       "  103           0.0   592.0 ...           0.0           nan           nan"
      ]
     },
     "execution_count": 3,
     "metadata": {},
     "output_type": "execute_result"
    }
   ],
   "source": [
    "jps_file='/Users/shjiao/desktop/check/m31_850/test_file.csv'\n",
    "jps_cat=ascii.read(jps_file)\n",
    "jps_cat"
   ]
  },
  {
   "cell_type": "code",
   "execution_count": 4,
   "metadata": {},
   "outputs": [],
   "source": [
    "im_160='/Users/shjiao/desktop/check/sed/data/regird/pacs160.sm.fitshcongrid.fits'\n",
    "im_250='/Users/shjiao/desktop/check/sed/data/regird/spire250.conv.fitshcongrid.fits'\n",
    "im_450='/Users/shjiao/desktop/check/sed/data/regird/combined450.sm.fitshcongrid.fits'\n",
    "im_850='/Users/shjiao/desktop/check/sed/data/regird/combined850.sm.fits'\n",
    "\n",
    "#open the input file\n",
    "hdu_160=fits.open(im_160)\n",
    "hdu_250=fits.open(im_250)\n",
    "hdu_450=fits.open(im_450)\n",
    "hdu_850=fits.open(im_850)\n",
    "\n",
    "#initialize\n",
    "name=[]\n",
    "glon=[]\n",
    "glat=[]\n",
    "major=[]\n",
    "minor=[]\n",
    "PA=[]\n",
    "r_eq=[]\n",
    "SNR_850=[]\n",
    "T_dust=[]\n",
    "N_H2=[]\n",
    "n_H2=[]\n",
    "sigma=[]\n",
    "mass=[]\n",
    "luminosity=[]\n",
    "l_m=[]"
   ]
  },
  {
   "cell_type": "code",
   "execution_count": 7,
   "metadata": {},
   "outputs": [
    {
     "name": "stderr",
     "output_type": "stream",
     "text": [
      "/Users/shjiao/Library/Enthought/Canopy_64bit/User/lib/python2.7/site-packages/scipy/optimize/minpack.py:785: OptimizeWarning: Covariance of the parameters could not be estimated\n",
      "  category=OptimizeWarning)\n"
     ]
    }
   ],
   "source": [
    "for i in range(len(jps_cat)):\n",
    "    if jps_cat['col2'][i]>0.0:\n",
    "        name.append(jps_cat['col1'][i])\n",
    "        glon.append('%.3f' % jps_cat['col9'][i])\n",
    "        glat.append('%.3f' % jps_cat['col10'][i])\n",
    "        major.append(jps_cat['col5'][i])\n",
    "        minor.append(jps_cat['col6'][i])\n",
    "        PA.append(jps_cat['col7'][i])\n",
    "        r_pc=np.sqrt(jps_cat['col5'][i]*jps_cat['col6'][i]) / 3600.0 / 180*np.pi * d.value*1000\n",
    "        r_eq.append('%.2f' % r_pc)\n",
    "        #calcular ellipse size in 14\"\n",
    "        maj_14=major[i]\n",
    "        min_14=minor[i]\n",
    "    \n",
    "        a=maj_14 / 4.\n",
    "        b=min_14 / 4.\n",
    "        pa=PA[i] * u.deg\n",
    "    \n",
    "        w=wcs.WCS(hdu_850[0].header)\n",
    "        \n",
    "        #find pixels that located in the source area\n",
    "        center_world=np.array([[jps_cat['col9'][i],jps_cat['col10'][i]]])\n",
    "        center_pixel=np.array([[jps_cat['col9'][i],jps_cat['col10'][i]]])\n",
    "        x0,y0=center_pixel[0][0],center_pixel[0][1]\n",
    "    \n",
    "        y,x=np.indices(hdu_160[0].data.shape)\n",
    "        inside = ( (((y-y0)*np.sin(pa.cgs.value)+(x-x0)*np.cos(pa.cgs.value))/b)**2 + (((y-y0)*np.cos(pa.cgs.value)-(x-x0)*np.sin(pa.cgs.value))/a)**2 <1 )\n",
    "    \n",
    "        #average intensity of the source\n",
    "        inside_160=hdu_160[0].data[inside].flatten()\n",
    "        flux_160=np.mean(inside_160[inside_160==inside_160]) * u.Jy / (4. * u.arcsec)**2\n",
    "        flux_160=flux_160.to_value(u.MJy / u.sr)\n",
    "        \n",
    "        y,x=np.indices(hdu_250[0].data.shape)\n",
    "        inside = ( (((y-y0)*np.sin(pa.cgs.value)+(x-x0)*np.cos(pa.cgs.value))/b)**2 + (((y-y0)*np.cos(pa.cgs.value)-(x-x0)*np.sin(pa.cgs.value))/a)**2 <1 )\n",
    "    \n",
    "        #average intensity of the source\n",
    "        inside_250=hdu_250[0].data[inside].flatten()\n",
    "        flux_250=np.mean(inside_250[inside_250==inside_250])\n",
    "        \n",
    "        y,x=np.indices(hdu_450[0].data.shape)\n",
    "        inside = ( (((y-y0)*np.sin(pa.cgs.value)+(x-x0)*np.cos(pa.cgs.value))/b)**2 + (((y-y0)*np.cos(pa.cgs.value)-(x-x0)*np.sin(pa.cgs.value))/a)**2 <1 )\n",
    "    \n",
    "        #average intensity of the source\n",
    "        inside_450=hdu_450[0].data[inside].flatten()\n",
    "        flux_450=np.mean(inside_450[inside_450==inside_450])*u.Jy / (225 * u.arcsec**2)\n",
    "        flux_450=flux_450.to_value(u.MJy/u.sr)\n",
    "        \n",
    "        y,x=np.indices(hdu_850[0].data.shape)\n",
    "        inside = ( (((y-y0)*np.sin(pa.cgs.value)+(x-x0)*np.cos(pa.cgs.value))/b)**2 + (((y-y0)*np.cos(pa.cgs.value)-(x-x0)*np.sin(pa.cgs.value))/a)**2 <1 )\n",
    "    \n",
    "        #average intensity of the source\n",
    "        #change the unit from mJy/beam to MJy/sr\n",
    "        inside_850=hdu_850[0].data[inside].flatten()\n",
    "        flux_850=np.mean(inside_850[inside_850==inside_850])*u.Jy / (225 * u.arcsec**2)\n",
    "        flux_850=flux_850.to_value(u.MJy/u.sr)\n",
    "        \n",
    "        #fit the SED of JPS core\n",
    "        xdata=[160,250,450,850]\n",
    "        ydata=[flux_160,flux_250,flux_450,flux_850]\n",
    "        yerr=[flux_160*0.2,flux_250*0.2,flux_450*0.2,flux_850*0.2]\n",
    "    \n",
    "        popt,pcov=curve_fit(SED,xdata,ydata,p0=[15,0.1])\n",
    "    \n",
    "        #derive the physical properties\n",
    "        T_dust.append('%.2f' % popt[0])\n",
    "        sigma.append('%.2f' % popt[1])\n",
    "        N_H2.append('%.2f' % (popt[1]/mu/m_H / (1*10**20)))\n",
    "    "
   ]
  },
  {
   "cell_type": "code",
   "execution_count": 14,
   "metadata": {},
   "outputs": [],
   "source": [
    "name_1=[]\n",
    "glon_1=[]\n",
    "glat_1=[]\n",
    "major_1=[]\n",
    "minor_1=[]\n",
    "PA_1=[]\n",
    "r_eq_1=[]"
   ]
  },
  {
   "cell_type": "code",
   "execution_count": 15,
   "metadata": {},
   "outputs": [],
   "source": [
    "for i in range(len(jps_cat)):\n",
    "    if jps_cat['col2'][i]>0.0:\n",
    "        name_1.append(i)\n",
    "        glon_1.append('%.3f' % jps_cat['col9'][i])\n",
    "        glat_1.append('%.3f' % jps_cat['col10'][i])\n",
    "        major_1.append(jps_cat['col5'][i])\n",
    "        minor_1.append(jps_cat['col6'][i])\n",
    "        PA_1.append(jps_cat['col7'][i])\n",
    "        r_pc=np.sqrt(jps_cat['col5'][i]*jps_cat['col6'][i]) / 3600.0 / 180*np.pi * d.value*1000\n",
    "        r_eq_1.append('%.2f' % r_pc)\n",
    "        #calcular ellipse size in 14\""
   ]
  },
  {
   "cell_type": "code",
   "execution_count": 19,
   "metadata": {},
   "outputs": [],
   "source": [
    "#export the catalogue\n",
    "name=Column(name_1,name='JPS_name')\n",
    "glon=Column(glon_1,name='l\\_peak')\n",
    "glat=Column(glat_1,name='b\\_peak')\n",
    "major=Column(major_1,name='maj')\n",
    "minor=Column(minor_1,name='min')\n",
    "PA=Column(PA_1,name='PA',unit='\\degr')\n",
    "r_eq=Column(r_eq_1,name='r\\_eq')\n",
    "T_dust=Column(T_dust,name='T\\_dust')\n",
    "N_H2=Column(N_H2,name='N\\_H2',unit=r'$10^{22}\\,cm^{-2}$')\n",
    "\n",
    "    \n",
    "table=Table([name,glon,glat,major,minor,PA,r_eq,T_dust,N_H2])\n",
    "table.write('/Users/shjiao/desktop/check/photometry.csv',format='csv',overwrite=True)\n",
    "table.write('/Users/shjiao/desktop/check/photometry.tex',format='latex',overwrite=True)"
   ]
  },
  {
   "cell_type": "code",
   "execution_count": 62,
   "metadata": {},
   "outputs": [
    {
     "data": {
      "text/html": [
       "&lt;Table length=66&gt;\n",
       "<table id=\"table4484509200\" class=\"table-striped table-bordered table-condensed\">\n",
       "<thead><tr><th>JPS_name</th><th>l\\_peak</th><th>b\\_peak</th><th>maj</th><th>min</th><th>PA</th><th>r\\_eq</th><th>T\\_dust</th><th>N\\_H2</th></tr></thead>\n",
       "<thead><tr><th>int64</th><th>float64</th><th>float64</th><th>float64</th><th>float64</th><th>float64</th><th>float64</th><th>float64</th><th>float64</th></tr></thead>\n",
       "<tr><td>4</td><td>179.056</td><td>53.749</td><td>7.70044246262</td><td>6.94255068752</td><td>63.200316467</td><td>0.25</td><td>20.76</td><td>3.62</td></tr>\n",
       "<tr><td>8</td><td>201.696</td><td>64.45</td><td>5.95375301155</td><td>4.32627678302</td><td>94.5407930892</td><td>0.17</td><td>18.22</td><td>5.81</td></tr>\n",
       "<tr><td>10</td><td>199.577</td><td>70.764</td><td>7.54927288705</td><td>3.37155864657</td><td>142.19574833</td><td>0.17</td><td>18.53</td><td>4.91</td></tr>\n",
       "<tr><td>12</td><td>195.808</td><td>78.733</td><td>11.7953278438</td><td>4.62990749838</td><td>123.576081078</td><td>0.25</td><td>19.06</td><td>4.05</td></tr>\n",
       "<tr><td>13</td><td>165.953</td><td>80.154</td><td>9.25263639902</td><td>5.30588705213</td><td>107.143705769</td><td>0.24</td><td>22.63</td><td>3.58</td></tr>\n",
       "<tr><td>15</td><td>156.546</td><td>86.837</td><td>10.3803932976</td><td>7.20392004397</td><td>87.9391137292</td><td>0.3</td><td>22.78</td><td>4.35</td></tr>\n",
       "<tr><td>17</td><td>179.011</td><td>94.448</td><td>11.2645126435</td><td>4.1496263399</td><td>115.79381857</td><td>0.23</td><td>19.69</td><td>4.71</td></tr>\n",
       "<tr><td>18</td><td>116.106</td><td>97.109</td><td>4.40395098573</td><td>4.01983850326</td><td>-159.283838084</td><td>0.14</td><td>25.72</td><td>0.89</td></tr>\n",
       "<tr><td>19</td><td>110.279</td><td>100.898</td><td>4.00277755211</td><td>3.46645449958</td><td>47.2388579459</td><td>0.13</td><td>22.39</td><td>1.24</td></tr>\n",
       "<tr><td>21</td><td>211.687</td><td>109.077</td><td>8.58509460756</td><td>4.59884193977</td><td>138.759748305</td><td>0.22</td><td>17.0</td><td>2.86</td></tr>\n",
       "<tr><td>...</td><td>...</td><td>...</td><td>...</td><td>...</td><td>...</td><td>...</td><td>...</td><td>...</td></tr>\n",
       "<tr><td>81</td><td>199.539</td><td>268.213</td><td>5.86262981852</td><td>4.2799657138</td><td>-178.166145069</td><td>0.17</td><td>13.77</td><td>4.64</td></tr>\n",
       "<tr><td>83</td><td>152.008</td><td>276.326</td><td>5.31666261055</td><td>3.28946865322</td><td>167.745407409</td><td>0.14</td><td>15.73</td><td>7.0</td></tr>\n",
       "<tr><td>84</td><td>104.548</td><td>279.27</td><td>7.91467332377</td><td>2.65254529364</td><td>112.126798695</td><td>0.16</td><td>14.33</td><td>5.59</td></tr>\n",
       "<tr><td>88</td><td>178.831</td><td>288.69</td><td>5.53201432197</td><td>3.74856450818</td><td>50.5160109004</td><td>0.16</td><td>16.25</td><td>2.21</td></tr>\n",
       "<tr><td>89</td><td>131.052</td><td>291.831</td><td>13.4239327695</td><td>6.3838895755</td><td>157.491350541</td><td>0.32</td><td>18.96</td><td>12.18</td></tr>\n",
       "<tr><td>90</td><td>165.928</td><td>290.814</td><td>6.71940652816</td><td>5.52928075093</td><td>-150.696505255</td><td>0.21</td><td>14.13</td><td>7.29</td></tr>\n",
       "<tr><td>91</td><td>126.329</td><td>292.833</td><td>25.4342464423</td><td>8.7617142486</td><td>167.793705971</td><td>0.51</td><td>17.91</td><td>11.06</td></tr>\n",
       "<tr><td>93</td><td>119.719</td><td>294.003</td><td>10.3311089803</td><td>5.45916837614</td><td>59.6916465286</td><td>0.26</td><td>19.31</td><td>12.91</td></tr>\n",
       "<tr><td>94</td><td>161.13</td><td>296.175</td><td>4.5752612074</td><td>4.43607968196</td><td>89.6943423612</td><td>0.15</td><td>13.16</td><td>6.72</td></tr>\n",
       "<tr><td>97</td><td>114.168</td><td>309.734</td><td>8.72582845504</td><td>4.13803170954</td><td>122.088327453</td><td>0.21</td><td>19.21</td><td>14.51</td></tr>\n",
       "</table>"
      ],
      "text/plain": [
       "<Table length=66>\n",
       "JPS_name l\\_peak b\\_peak      maj      ...  r\\_eq  T\\_dust  N\\_H2 \n",
       " int64   float64 float64    float64    ... float64 float64 float64\n",
       "-------- ------- ------- ------------- ... ------- ------- -------\n",
       "       4 179.056  53.749 7.70044246262 ...    0.25   20.76    3.62\n",
       "       8 201.696   64.45 5.95375301155 ...    0.17   18.22    5.81\n",
       "      10 199.577  70.764 7.54927288705 ...    0.17   18.53    4.91\n",
       "      12 195.808  78.733 11.7953278438 ...    0.25   19.06    4.05\n",
       "      13 165.953  80.154 9.25263639902 ...    0.24   22.63    3.58\n",
       "      15 156.546  86.837 10.3803932976 ...     0.3   22.78    4.35\n",
       "      17 179.011  94.448 11.2645126435 ...    0.23   19.69    4.71\n",
       "      18 116.106  97.109 4.40395098573 ...    0.14   25.72    0.89\n",
       "      19 110.279 100.898 4.00277755211 ...    0.13   22.39    1.24\n",
       "      21 211.687 109.077 8.58509460756 ...    0.22    17.0    2.86\n",
       "     ...     ...     ...           ... ...     ...     ...     ...\n",
       "      81 199.539 268.213 5.86262981852 ...    0.17   13.77    4.64\n",
       "      83 152.008 276.326 5.31666261055 ...    0.14   15.73     7.0\n",
       "      84 104.548  279.27 7.91467332377 ...    0.16   14.33    5.59\n",
       "      88 178.831  288.69 5.53201432197 ...    0.16   16.25    2.21\n",
       "      89 131.052 291.831 13.4239327695 ...    0.32   18.96   12.18\n",
       "      90 165.928 290.814 6.71940652816 ...    0.21   14.13    7.29\n",
       "      91 126.329 292.833 25.4342464423 ...    0.51   17.91   11.06\n",
       "      93 119.719 294.003 10.3311089803 ...    0.26   19.31   12.91\n",
       "      94  161.13 296.175  4.5752612074 ...    0.15   13.16    6.72\n",
       "      97 114.168 309.734 8.72582845504 ...    0.21   19.21   14.51"
      ]
     },
     "execution_count": 62,
     "metadata": {},
     "output_type": "execute_result"
    }
   ],
   "source": [
    "jps_file='/Users/shjiao/desktop/check/photometry_sec.csv'\n",
    "jps_cat=ascii.read(jps_file)\n",
    "jps_cat"
   ]
  },
  {
   "cell_type": "code",
   "execution_count": 63,
   "metadata": {},
   "outputs": [],
   "source": [
    "td=[]\n",
    "nh2=[]\n",
    "for i in range(len(jps_cat)):\n",
    "    td.append(jps_cat['T\\_dust'][i])\n",
    "    nh2.append(jps_cat['N\\_H2'][i])\n",
    "    "
   ]
  },
  {
   "cell_type": "code",
   "execution_count": 64,
   "metadata": {},
   "outputs": [
    {
     "data": {
      "image/png": "[encoded data removed]",
      "text/plain": [
       "<matplotlib.figure.Figure at 0x10b4ab790>"
      ]
     },
     "metadata": {},
     "output_type": "display_data"
    }
   ],
   "source": [
    "# the histogram of the data\n",
    "plt.hist(td,20)\n",
    "\n",
    "\n",
    "plt.xlabel(r'$T\\_dust (K)$')\n",
    "plt.ylabel('Number')\n",
    "#plt.axis([40, 160, 0, 0.03])\n",
    "plt.show()"
   ]
  },
  {
   "cell_type": "code",
   "execution_count": 60,
   "metadata": {},
   "outputs": [
    {
     "data": {
      "image/png": "[encoded data removed]",
      "text/plain": [
       "<matplotlib.figure.Figure at 0x10b241f50>"
      ]
     },
     "metadata": {},
     "output_type": "display_data"
    }
   ],
   "source": [
    "# the histogram of the data\n",
    "plt.hist(nh2,20)\n",
    "\n",
    "\n",
    "plt.xlabel(r'$N\\_H2 (10^{20}\\,cm^{-2})$')\n",
    "plt.ylabel('Number')\n",
    "#plt.axis([40, 160, 0, 0.03])\n",
    "plt.show()"
   ]
  },
  {
   "cell_type": "code",
   "execution_count": 61,
   "metadata": {},
   "outputs": [
    {
     "data": {
      "text/plain": [
       "[<matplotlib.lines.Line2D at 0x10b8fa8d0>]"
      ]
     },
     "execution_count": 61,
     "metadata": {},
     "output_type": "execute_result"
    },
    {
     "data": {
      "image/png": "[encoded data removed]",
      "text/plain": [
       "<matplotlib.figure.Figure at 0x10a4bb250>"
      ]
     },
     "metadata": {},
     "output_type": "display_data"
    }
   ],
   "source": [
    "#plot the fit result\n",
    "#build the frame of the graph\n",
    "fig=plt.figure(figsize=(7,7))\n",
    "#plt.xlim(10,1000)\n",
    "#plt.ylim(10,200000)\n",
    "#plt.yscale('log')\n",
    "plt.ylabel(r'$T\\_dust (K)$')\n",
    "plt.xlabel(r'$N\\_H2 (10^{20}\\,cm^{-2})$')\n",
    "plt.xscale('log')\n",
    "\n",
    "#plot the data and function\n",
    "plt.plot(nh2,td,'ks')\n"
   ]
  },
  {
   "cell_type": "code",
   "execution_count": 68,
   "metadata": {},
   "outputs": [
    {
     "data": {
      "text/plain": [
       "18.308333333333337"
      ]
     },
     "execution_count": 68,
     "metadata": {},
     "output_type": "execute_result"
    }
   ],
   "source": [
    "np.mean(td)"
   ]
  },
  {
   "cell_type": "code",
   "execution_count": 69,
   "metadata": {},
   "outputs": [
    {
     "data": {
      "text/plain": [
       "6.7303030303030313"
      ]
     },
     "execution_count": 69,
     "metadata": {},
     "output_type": "execute_result"
    }
   ],
   "source": [
    "np.mean(nh2)"
   ]
  },
  {
   "cell_type": "code",
   "execution_count": null,
   "metadata": {},
   "outputs": [],
   "source": []
  }
 ],
 "metadata": {
  "kernelspec": {
   "display_name": "Python 2",
   "language": "python",
   "name": "python2"
  },
  "language_info": {
   "codemirror_mode": {
    "name": "ipython",
    "version": 2
   },
   "file_extension": ".py",
   "mimetype": "text/x-python",
   "name": "python",
   "nbconvert_exporter": "python",
   "pygments_lexer": "ipython2",
   "version": "2.7.9"
  }
 },
 "nbformat": 4,
 "nbformat_minor": 2
}
